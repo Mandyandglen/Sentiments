{
 "cells": [
  {
   "cell_type": "markdown",
   "metadata": {},
   "source": [
    "### Unit 7 | Assignment - Distinguishing Sentiments\n",
    "#1. The overall sentiment of the BBC is more positive than the other media outlets evaluated.\n",
    "#2.CNN's compound score is significantly more negative than the other media\n",
    "#3.CNN's tweets that are extremely negative (-0.75 -1.0) whereas the other media tweets are moderately negative."
   ]
  },
  {
   "cell_type": "code",
   "execution_count": null,
   "metadata": {},
   "outputs": [],
   "source": [
    "import tweepy\n",
    "import numpy as np\n",
    "import pandas as pd\n",
    "from datetime import datetime\n",
    "import matplotlib.pyplot as plt\n",
    "from matplotlib import style\n",
    "style.use('ggplot')\n",
    "\n",
    "from vaderSentiment.vaderSentiment import SentimentIntensityAnalyzer\n",
    "analyzer = SentimentIntensityAnalyzer()\n",
    "\n",
    "from config import (consumer_key, \n",
    "                    consumer_secret, \n",
    "                    access_token, \n",
    "                    access_token_secret)\n",
    "\n",
    "auth = tweepy.OAuthHandler(consumer_key, consumer_secret)\n",
    "auth.set_access_token(access_token, access_token_secret)\n",
    "api = tweepy.API(auth)"
   ]
  },
  {
   "cell_type": "code",
   "execution_count": 3,
   "metadata": {},
   "outputs": [],
   "source": [
    "# Target Search Term\n",
    "news = (\"@CNN\", \"@BBC\", \"@NYtimes\",\n",
    "                \"@CBS\", \"@Foxnews\")\n",
    "\n",
    "def get_news_df(news_name):\n",
    "    tweets  = []\n",
    "    for status in tweepy.Cursor(api.search, q=news_name).items(100):\n",
    "        tweets.append(status)\n",
    "    df = pd.DataFrame([x._json for x in tweets])[['text', 'created_at']]\n",
    "    df['brand'] = news_name\n",
    "    return df\n",
    "\n",
    "dfs = [get_news_df(x) for x in news]\n",
    "df_concat = pd.concat(dfs, axis=0)"
   ]
  },
  {
   "cell_type": "code",
   "execution_count": 4,
   "metadata": {
    "scrolled": true
   },
   "outputs": [],
   "source": [
    "analyzer = SentimentIntensityAnalyzer() \n",
    "\n",
    "def get_sentiment(some_text):\n",
    "    return analyzer.polarity_scores(some_text)\n",
    "    \n",
    "\n",
    "df_concat['sent'] = df_concat.text.map(get_sentiment)\n",
    "df_concat['pos'] = df_concat.sent.map(lambda x: x.get('pos'))\n",
    "df_concat['neg'] = df_concat.sent.map(lambda x: x.get('neg'))\n",
    "df_concat['neu'] = df_concat.sent.map(lambda x: x.get('neu'))\n",
    "df_concat['compound'] = df_concat.sent.map(lambda x: x.get('compound'))"
   ]
  },
  {
   "cell_type": "code",
   "execution_count": 5,
   "metadata": {
    "scrolled": false
   },
   "outputs": [
    {
     "data": {
      "text/html": [
       "<div>\n",
       "<style scoped>\n",
       "    .dataframe tbody tr th:only-of-type {\n",
       "        vertical-align: middle;\n",
       "    }\n",
       "\n",
       "    .dataframe tbody tr th {\n",
       "        vertical-align: top;\n",
       "    }\n",
       "\n",
       "    .dataframe thead th {\n",
       "        text-align: right;\n",
       "    }\n",
       "</style>\n",
       "<table border=\"1\" class=\"dataframe\">\n",
       "  <thead>\n",
       "    <tr style=\"text-align: right;\">\n",
       "      <th></th>\n",
       "      <th>text</th>\n",
       "      <th>created_at</th>\n",
       "      <th>brand</th>\n",
       "      <th>sent</th>\n",
       "      <th>pos</th>\n",
       "      <th>neg</th>\n",
       "      <th>neu</th>\n",
       "      <th>compound</th>\n",
       "    </tr>\n",
       "  </thead>\n",
       "  <tbody>\n",
       "    <tr>\n",
       "      <th>0</th>\n",
       "      <td>@MariaTCardona  @TheRickWilson  @kathygriffin ...</td>\n",
       "      <td>Sun Jul 01 22:03:41 +0000 2018</td>\n",
       "      <td>@CNN</td>\n",
       "      <td>{'neg': 0.0, 'neu': 1.0, 'pos': 0.0, 'compound...</td>\n",
       "      <td>0.0</td>\n",
       "      <td>0.0</td>\n",
       "      <td>1.0</td>\n",
       "      <td>0.0</td>\n",
       "    </tr>\n",
       "    <tr>\n",
       "      <th>1</th>\n",
       "      <td>RT @CNN: \"How dare you. How dare you take the ...</td>\n",
       "      <td>Sun Jul 01 22:03:41 +0000 2018</td>\n",
       "      <td>@CNN</td>\n",
       "      <td>{'neg': 0.0, 'neu': 1.0, 'pos': 0.0, 'compound...</td>\n",
       "      <td>0.0</td>\n",
       "      <td>0.0</td>\n",
       "      <td>1.0</td>\n",
       "      <td>0.0</td>\n",
       "    </tr>\n",
       "    <tr>\n",
       "      <th>2</th>\n",
       "      <td>RT @CNN: \"How dare you. How dare you take the ...</td>\n",
       "      <td>Sun Jul 01 22:03:41 +0000 2018</td>\n",
       "      <td>@CNN</td>\n",
       "      <td>{'neg': 0.0, 'neu': 1.0, 'pos': 0.0, 'compound...</td>\n",
       "      <td>0.0</td>\n",
       "      <td>0.0</td>\n",
       "      <td>1.0</td>\n",
       "      <td>0.0</td>\n",
       "    </tr>\n",
       "    <tr>\n",
       "      <th>3</th>\n",
       "      <td>@CNN #FamiliesBelongTogetherMarch @Acosta @Rea...</td>\n",
       "      <td>Sun Jul 01 22:03:40 +0000 2018</td>\n",
       "      <td>@CNN</td>\n",
       "      <td>{'neg': 0.0, 'neu': 1.0, 'pos': 0.0, 'compound...</td>\n",
       "      <td>0.0</td>\n",
       "      <td>0.0</td>\n",
       "      <td>1.0</td>\n",
       "      <td>0.0</td>\n",
       "    </tr>\n",
       "    <tr>\n",
       "      <th>4</th>\n",
       "      <td>@CNN BREAKING: CNN is pushing for the impeachm...</td>\n",
       "      <td>Sun Jul 01 22:03:40 +0000 2018</td>\n",
       "      <td>@CNN</td>\n",
       "      <td>{'neg': 0.0, 'neu': 1.0, 'pos': 0.0, 'compound...</td>\n",
       "      <td>0.0</td>\n",
       "      <td>0.0</td>\n",
       "      <td>1.0</td>\n",
       "      <td>0.0</td>\n",
       "    </tr>\n",
       "  </tbody>\n",
       "</table>\n",
       "</div>"
      ],
      "text/plain": [
       "                                                text  \\\n",
       "0  @MariaTCardona  @TheRickWilson  @kathygriffin ...   \n",
       "1  RT @CNN: \"How dare you. How dare you take the ...   \n",
       "2  RT @CNN: \"How dare you. How dare you take the ...   \n",
       "3  @CNN #FamiliesBelongTogetherMarch @Acosta @Rea...   \n",
       "4  @CNN BREAKING: CNN is pushing for the impeachm...   \n",
       "\n",
       "                       created_at brand  \\\n",
       "0  Sun Jul 01 22:03:41 +0000 2018  @CNN   \n",
       "1  Sun Jul 01 22:03:41 +0000 2018  @CNN   \n",
       "2  Sun Jul 01 22:03:41 +0000 2018  @CNN   \n",
       "3  Sun Jul 01 22:03:40 +0000 2018  @CNN   \n",
       "4  Sun Jul 01 22:03:40 +0000 2018  @CNN   \n",
       "\n",
       "                                                sent  pos  neg  neu  compound  \n",
       "0  {'neg': 0.0, 'neu': 1.0, 'pos': 0.0, 'compound...  0.0  0.0  1.0       0.0  \n",
       "1  {'neg': 0.0, 'neu': 1.0, 'pos': 0.0, 'compound...  0.0  0.0  1.0       0.0  \n",
       "2  {'neg': 0.0, 'neu': 1.0, 'pos': 0.0, 'compound...  0.0  0.0  1.0       0.0  \n",
       "3  {'neg': 0.0, 'neu': 1.0, 'pos': 0.0, 'compound...  0.0  0.0  1.0       0.0  \n",
       "4  {'neg': 0.0, 'neu': 1.0, 'pos': 0.0, 'compound...  0.0  0.0  1.0       0.0  "
      ]
     },
     "execution_count": 5,
     "metadata": {},
     "output_type": "execute_result"
    }
   ],
   "source": [
    "df_concat.head()"
   ]
  },
  {
   "cell_type": "code",
   "execution_count": 6,
   "metadata": {},
   "outputs": [],
   "source": [
    "df_concat.to_csv('newstweets.csv')"
   ]
  },
  {
   "cell_type": "code",
   "execution_count": 7,
   "metadata": {},
   "outputs": [],
   "source": [
    "grouped_media_comp=df_concat.groupby('brand').mean()\n",
    "grouped_media_comp.drop(grouped_media_comp.columns[[0,1,2,]], axis=1, inplace=True)"
   ]
  },
  {
   "cell_type": "code",
   "execution_count": 8,
   "metadata": {
    "scrolled": false
   },
   "outputs": [
    {
     "data": {
      "text/html": [
       "<div>\n",
       "<style scoped>\n",
       "    .dataframe tbody tr th:only-of-type {\n",
       "        vertical-align: middle;\n",
       "    }\n",
       "\n",
       "    .dataframe tbody tr th {\n",
       "        vertical-align: top;\n",
       "    }\n",
       "\n",
       "    .dataframe thead th {\n",
       "        text-align: right;\n",
       "    }\n",
       "</style>\n",
       "<table border=\"1\" class=\"dataframe\">\n",
       "  <thead>\n",
       "    <tr style=\"text-align: right;\">\n",
       "      <th></th>\n",
       "      <th>compound</th>\n",
       "    </tr>\n",
       "    <tr>\n",
       "      <th>brand</th>\n",
       "      <th></th>\n",
       "    </tr>\n",
       "  </thead>\n",
       "  <tbody>\n",
       "    <tr>\n",
       "      <th>@BBC</th>\n",
       "      <td>0.104064</td>\n",
       "    </tr>\n",
       "    <tr>\n",
       "      <th>@CBS</th>\n",
       "      <td>-0.023743</td>\n",
       "    </tr>\n",
       "    <tr>\n",
       "      <th>@CNN</th>\n",
       "      <td>-0.046743</td>\n",
       "    </tr>\n",
       "    <tr>\n",
       "      <th>@Foxnews</th>\n",
       "      <td>0.001298</td>\n",
       "    </tr>\n",
       "    <tr>\n",
       "      <th>@NYtimes</th>\n",
       "      <td>0.025590</td>\n",
       "    </tr>\n",
       "  </tbody>\n",
       "</table>\n",
       "</div>"
      ],
      "text/plain": [
       "          compound\n",
       "brand             \n",
       "@BBC      0.104064\n",
       "@CBS     -0.023743\n",
       "@CNN     -0.046743\n",
       "@Foxnews  0.001298\n",
       "@NYtimes  0.025590"
      ]
     },
     "execution_count": 8,
     "metadata": {},
     "output_type": "execute_result"
    }
   ],
   "source": [
    "grouped_media_comp.head()"
   ]
  },
  {
   "cell_type": "code",
   "execution_count": 9,
   "metadata": {
    "scrolled": true
   },
   "outputs": [
    {
     "data": {
      "image/png": "[encoded data removed]",
      "text/plain": [
       "<matplotlib.figure.Figure at 0x17bb24d17b8>"
      ]
     },
     "metadata": {},
     "output_type": "display_data"
    }
   ],
   "source": [
    "height = grouped_media_comp[\"compound\"]\n",
    "bars = ('BBC', 'CBS', 'CNN', 'Fox News', 'NY Times')\n",
    "y_pos = np.arange(len(bars))\n",
    "plt.title(\"Overall Media Sentiment June 2018\")\n",
    "plt.ylabel('Tweet Polarity')\n",
    "plt.xlabel('News Outlet')\n",
    "\n",
    "plt.bar(y_pos, height, color=['peachpuff', 'mistyrose', 'cadetblue', 'rosybrown', 'seashell'])\n",
    "plt.xticks(y_pos, bars)\n",
    "plt.show()"
   ]
  },
  {
   "cell_type": "code",
   "execution_count": 10,
   "metadata": {
    "scrolled": true
   },
   "outputs": [
    {
     "data": {
      "text/html": [
       "<div>\n",
       "<style scoped>\n",
       "    .dataframe tbody tr th:only-of-type {\n",
       "        vertical-align: middle;\n",
       "    }\n",
       "\n",
       "    .dataframe tbody tr th {\n",
       "        vertical-align: top;\n",
       "    }\n",
       "\n",
       "    .dataframe thead th {\n",
       "        text-align: right;\n",
       "    }\n",
       "</style>\n",
       "<table border=\"1\" class=\"dataframe\">\n",
       "  <thead>\n",
       "    <tr style=\"text-align: right;\">\n",
       "      <th></th>\n",
       "      <th>text</th>\n",
       "      <th>created_at</th>\n",
       "      <th>brand</th>\n",
       "      <th>sent</th>\n",
       "      <th>pos</th>\n",
       "      <th>neg</th>\n",
       "      <th>neu</th>\n",
       "      <th>compound</th>\n",
       "      <th>tweetsago</th>\n",
       "    </tr>\n",
       "  </thead>\n",
       "  <tbody>\n",
       "    <tr>\n",
       "      <th>0</th>\n",
       "      <td>@MariaTCardona  @TheRickWilson  @kathygriffin ...</td>\n",
       "      <td>Sun Jul 01 22:03:41 +0000 2018</td>\n",
       "      <td>@CNN</td>\n",
       "      <td>{'neg': 0.0, 'neu': 1.0, 'pos': 0.0, 'compound...</td>\n",
       "      <td>0.0</td>\n",
       "      <td>0.0</td>\n",
       "      <td>1.0</td>\n",
       "      <td>0.0</td>\n",
       "      <td>0</td>\n",
       "    </tr>\n",
       "    <tr>\n",
       "      <th>1</th>\n",
       "      <td>RT @CNN: \"How dare you. How dare you take the ...</td>\n",
       "      <td>Sun Jul 01 22:03:41 +0000 2018</td>\n",
       "      <td>@CNN</td>\n",
       "      <td>{'neg': 0.0, 'neu': 1.0, 'pos': 0.0, 'compound...</td>\n",
       "      <td>0.0</td>\n",
       "      <td>0.0</td>\n",
       "      <td>1.0</td>\n",
       "      <td>0.0</td>\n",
       "      <td>1</td>\n",
       "    </tr>\n",
       "    <tr>\n",
       "      <th>2</th>\n",
       "      <td>RT @CNN: \"How dare you. How dare you take the ...</td>\n",
       "      <td>Sun Jul 01 22:03:41 +0000 2018</td>\n",
       "      <td>@CNN</td>\n",
       "      <td>{'neg': 0.0, 'neu': 1.0, 'pos': 0.0, 'compound...</td>\n",
       "      <td>0.0</td>\n",
       "      <td>0.0</td>\n",
       "      <td>1.0</td>\n",
       "      <td>0.0</td>\n",
       "      <td>2</td>\n",
       "    </tr>\n",
       "    <tr>\n",
       "      <th>3</th>\n",
       "      <td>@CNN #FamiliesBelongTogetherMarch @Acosta @Rea...</td>\n",
       "      <td>Sun Jul 01 22:03:40 +0000 2018</td>\n",
       "      <td>@CNN</td>\n",
       "      <td>{'neg': 0.0, 'neu': 1.0, 'pos': 0.0, 'compound...</td>\n",
       "      <td>0.0</td>\n",
       "      <td>0.0</td>\n",
       "      <td>1.0</td>\n",
       "      <td>0.0</td>\n",
       "      <td>3</td>\n",
       "    </tr>\n",
       "    <tr>\n",
       "      <th>4</th>\n",
       "      <td>@CNN BREAKING: CNN is pushing for the impeachm...</td>\n",
       "      <td>Sun Jul 01 22:03:40 +0000 2018</td>\n",
       "      <td>@CNN</td>\n",
       "      <td>{'neg': 0.0, 'neu': 1.0, 'pos': 0.0, 'compound...</td>\n",
       "      <td>0.0</td>\n",
       "      <td>0.0</td>\n",
       "      <td>1.0</td>\n",
       "      <td>0.0</td>\n",
       "      <td>4</td>\n",
       "    </tr>\n",
       "  </tbody>\n",
       "</table>\n",
       "</div>"
      ],
      "text/plain": [
       "                                                text  \\\n",
       "0  @MariaTCardona  @TheRickWilson  @kathygriffin ...   \n",
       "1  RT @CNN: \"How dare you. How dare you take the ...   \n",
       "2  RT @CNN: \"How dare you. How dare you take the ...   \n",
       "3  @CNN #FamiliesBelongTogetherMarch @Acosta @Rea...   \n",
       "4  @CNN BREAKING: CNN is pushing for the impeachm...   \n",
       "\n",
       "                       created_at brand  \\\n",
       "0  Sun Jul 01 22:03:41 +0000 2018  @CNN   \n",
       "1  Sun Jul 01 22:03:41 +0000 2018  @CNN   \n",
       "2  Sun Jul 01 22:03:41 +0000 2018  @CNN   \n",
       "3  Sun Jul 01 22:03:40 +0000 2018  @CNN   \n",
       "4  Sun Jul 01 22:03:40 +0000 2018  @CNN   \n",
       "\n",
       "                                                sent  pos  neg  neu  compound  \\\n",
       "0  {'neg': 0.0, 'neu': 1.0, 'pos': 0.0, 'compound...  0.0  0.0  1.0       0.0   \n",
       "1  {'neg': 0.0, 'neu': 1.0, 'pos': 0.0, 'compound...  0.0  0.0  1.0       0.0   \n",
       "2  {'neg': 0.0, 'neu': 1.0, 'pos': 0.0, 'compound...  0.0  0.0  1.0       0.0   \n",
       "3  {'neg': 0.0, 'neu': 1.0, 'pos': 0.0, 'compound...  0.0  0.0  1.0       0.0   \n",
       "4  {'neg': 0.0, 'neu': 1.0, 'pos': 0.0, 'compound...  0.0  0.0  1.0       0.0   \n",
       "\n",
       "   tweetsago  \n",
       "0          0  \n",
       "1          1  \n",
       "2          2  \n",
       "3          3  \n",
       "4          4  "
      ]
     },
     "execution_count": 10,
     "metadata": {},
     "output_type": "execute_result"
    }
   ],
   "source": [
    "df_concat['tweetsago'] = df_concat.index\n",
    "df_concat.head()"
   ]
  },
  {
   "cell_type": "code",
   "execution_count": 30,
   "metadata": {},
   "outputs": [],
   "source": [
    "BBC = df_concat[df_concat['brand'] =='@BBC']\n",
    "CBS = df_concat[df_concat['brand'] =='@CBS']\n",
    "CNN = df_concat[df_concat['brand'] =='@CNN']\n",
    "Fox = df_concat[df_concat['brand'] =='@Foxnews']\n",
    "NYT = df_concat[df_concat['brand'] =='@NYtimes']"
   ]
  },
  {
   "cell_type": "code",
   "execution_count": 33,
   "metadata": {},
   "outputs": [
    {
     "data": {
      "image/png": "[encoded data removed]",
      "text/plain": [
       "<matplotlib.figure.Figure at 0x17bb40c8f98>"
      ]
     },
     "metadata": {},
     "output_type": "display_data"
    }
   ],
   "source": [
    "fig = plt.figure()\n",
    "ax = fig.add_subplot(111)\n",
    "\n",
    "ax.scatter(x='tweetsago', y='compound', data=BBC, c='orangered', alpha = 0.9,edgecolors=\"black\",)\n",
    "ax.scatter(x='tweetsago', y='compound', data=CBS, c='indigo', alpha = 0.9,edgecolors=\"black\",)\n",
    "ax.scatter(x='tweetsago', y='compound', data=CNN, c='gold', alpha = 0.9,edgecolors=\"black\",)\n",
    "ax.scatter(x='tweetsago', y='compound', data=Fox, c='lime', alpha = 0.9,edgecolors=\"black\",)\n",
    "ax.scatter(x='tweetsago', y='compound', data=NYT, c='lightskyblue', alpha = 0.9,edgecolors=\"black\",)\n",
    "\n",
    "\n",
    "plt.xlabel(\"Tweets Ago\")\n",
    "plt.ylabel(\"Tweet Polarity\")\n",
    "plt.title(\"Sentiment Analysis of Media Tweets\")\n",
    "\n",
    "\n",
    "#ax.legend((title),loc='upper right', shadow=True)\n",
    "plt.grid(True)\n",
    "\n",
    "# resize the figure to match the aspect ratio of the Axes    \n",
    "fig.set_size_inches(9, 7, forward=True)\n",
    "\n",
    "\n",
    "plt.show()"
   ]
  },
  {
   "cell_type": "code",
   "execution_count": null,
   "metadata": {},
   "outputs": [],
   "source": []
  },
  {
   "cell_type": "code",
   "execution_count": null,
   "metadata": {},
   "outputs": [],
   "source": []
  }
 ],
 "metadata": {
  "kernelspec": {
   "display_name": "Python 3",
   "language": "python",
   "name": "python3"
  },
  "language_info": {
   "codemirror_mode": {
    "name": "ipython",
    "version": 3
   },
   "file_extension": ".py",
   "mimetype": "text/x-python",
   "name": "python",
   "nbconvert_exporter": "python",
   "pygments_lexer": "ipython3",
   "version": "3.6.4"
  }
 },
 "nbformat": 4,
 "nbformat_minor": 2
}
